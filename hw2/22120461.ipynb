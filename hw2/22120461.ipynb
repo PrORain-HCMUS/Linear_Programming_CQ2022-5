{
 "cells": [
  {
   "cell_type": "code",
   "execution_count": 9,
   "id": "9fedb194",
   "metadata": {},
   "outputs": [],
   "source": [
    "import numpy as np\n",
    "import pandas as pd\n",
    "import matplotlib.pyplot as plt\n",
    "from IPython.display import display, Markdown, Math"
   ]
  },
  {
   "cell_type": "code",
   "execution_count": 10,
   "id": "3e45ed84",
   "metadata": {},
   "outputs": [],
   "source": [
    "# Hệ số M đủ lớn ta sẽ dùng trong phương pháp Big-M ở bài này\n",
    "M = 1000\n",
    "\n",
    "# Đọc và chuẩn bị dữ liệu đầu vào\n",
    "# Nếu muốn nhập trực tiếp test case vào đây để test thì dùng hàm này\n",
    "def parse_input():\n",
    "    \"\"\"\n",
    "    Hàm này định nghĩa bài toán tối ưu tuyến tính.\n",
    "    \n",
    "    Returns:\n",
    "        tuple: (c, A, b, signs) - Hệ số hàm mục tiêu, ma trận hệ số, vế phải, dấu ràng buộc\n",
    "    \"\"\"\n",
    "    # Bài toán tìm Max hàm f = 7x1 + x2 - 4x3 \n",
    "    # Các ràng buộc:\n",
    "    # -6x1 + 4x2 + 5x3 >= -20\n",
    "    # x1 + 2x2 - x3 = 8\n",
    "    # 3x1 + 2x2 - x3 <= -8\n",
    "    c = [7, 1, -4]\n",
    "    A = [\n",
    "        [-6, 4, 5],\n",
    "        [1, 2, -1],\n",
    "        [3, 2, -1]\n",
    "    ]\n",
    "    b = [-20, 8, -8]\n",
    "    signs = ['>=', '=', '<=']\n",
    "    return c, A, b, signs\n",
    "\n",
    "\n"
   ]
  },
  {
   "cell_type": "markdown",
   "id": "1d50e7d7",
   "metadata": {},
   "source": [
    "Nếu muốn đọc test case từ thư mục input thì ta sẽ dùng cell bên dưới đây. Sau đây sẽ là cấu trúc của test case ta sẽ sử dụng:\n",
    "\n",
    "**Cấu trúc file testcase**\n",
    "1. **Dòng 1**: Hệ số hàm mục tiêu `c`  \n",
    "   - Ví dụ: `7 1 -4` (tương ứng với bài toán `Max f = 7x1 + x2 - 4x3`).\n",
    "\n",
    "2. **Dòng 2 đến n+1**: Ma trận hệ số `A`  \n",
    "   - Mỗi dòng là hệ số của một ràng buộc.  \n",
    "   - Ví dụ:  \n",
    "     ```\n",
    "     -6 4 5\n",
    "     1 2 -1\n",
    "     3 2 -1\n",
    "     ```\n",
    "\n",
    "3. **Dòng tiếp theo**: Ký hiệu phân tách `b`  \n",
    "   - Chỉ chứa ký tự `b`.\n",
    "   - Dòng này được sử dụng để phân tách giữa ma trận hệ số `A` và vế phải `b` của các ràng buộc.\n",
    "\n",
    "4. **Dòng tiếp theo**: Vế phải `b`  \n",
    "   - Chứa các giá trị của vế phải trong các ràng buộc, cách nhau bằng dấu cách.\n",
    "   - Ví dụ: `-20 8 -8`.\n",
    "\n",
    "5. **Dòng cuối cùng**: Dấu ràng buộc  \n",
    "   - Ví dụ: `>= = <=`.\n",
    "\n",
    "---\n",
    "\n",
    "**Ví dụ đầy đủ**\n",
    "```plaintext\n",
    "7 1 -4\n",
    "-6 4 5\n",
    "1 2 -1\n",
    "3 2 -1\n",
    "b\n",
    "-20 8 -8\n",
    ">= = <=\n",
    "```"
   ]
  },
  {
   "cell_type": "code",
   "execution_count": 11,
   "id": "99f7f044",
   "metadata": {},
   "outputs": [],
   "source": [
    "import os\n",
    "\n",
    "# Nếu muốn đọc test case từ thư mục input thì dùng cell này\n",
    "def parse_input_from_file(file_path):\n",
    "    \"\"\"\n",
    "    Đọc dữ liệu bài toán từ file.\n",
    "    \n",
    "    Args:\n",
    "        file_path (str): Đường dẫn tới file input.\n",
    "    \n",
    "    Returns:\n",
    "        tuple: (c, A, b, signs) - Hệ số hàm mục tiêu, ma trận hệ số, vế phải, dấu ràng buộc.\n",
    "    \"\"\"\n",
    "    with open(file_path, 'r') as f:\n",
    "        lines = f.readlines()\n",
    "    \n",
    "    # Đọc hệ số hàm mục tiêu\n",
    "    c = list(map(float, lines[0].strip().split()))\n",
    "    \n",
    "    # Đọc ma trận hệ số A\n",
    "    A = []\n",
    "    i = 1\n",
    "    while lines[i].strip() != \"b\":\n",
    "        A.append(list(map(float, lines[i].strip().split())))\n",
    "        i += 1\n",
    "    \n",
    "    # Đọc vế phải b\n",
    "    i += 1\n",
    "    b = list(map(float, lines[i].strip().split()))\n",
    "    \n",
    "    # Đọc dấu ràng buộc\n",
    "    i += 1\n",
    "    signs = lines[i].strip().split()\n",
    "    \n",
    "    return c, A, b, signs\n",
    "\n",
    "def parse_input_from_folder(folder_path):\n",
    "    \"\"\"\n",
    "    Đọc dữ liệu từ tất cả các file trong thư mục.\n",
    "    \n",
    "    Args:\n",
    "        folder_path (str): Đường dẫn tới thư mục chứa các file input.\n",
    "    \n",
    "    Returns:\n",
    "        list: Danh sách các bài toán (c, A, b, signs).\n",
    "    \"\"\"\n",
    "    problems = []\n",
    "    for file_name in os.listdir(folder_path):\n",
    "        if file_name.endswith('.txt'):\n",
    "            file_path = os.path.join(folder_path, file_name)\n",
    "            problems.append(parse_input_from_file(file_path))\n",
    "    return problems\n",
    "\n",
    "# Đọc dữ liệu từ thư mục input\n",
    "input_folder = \".\\input\"\n",
    "if not os.path.exists(input_folder):\n",
    "    os.makedirs(input_folder)\n",
    "problems = parse_input_from_folder(input_folder)"
   ]
  },
  {
   "cell_type": "code",
   "execution_count": 12,
   "id": "2bb1907b",
   "metadata": {},
   "outputs": [
    {
     "name": "stdout",
     "output_type": "stream",
     "text": [
      "=== Bài toán 1 ===\n"
     ]
    },
    {
     "data": {
      "text/markdown": [
       "**Bài toán tối ưu tuyến tính:**"
      ],
      "text/plain": [
       "<IPython.core.display.Markdown object>"
      ]
     },
     "metadata": {},
     "output_type": "display_data"
    },
    {
     "data": {
      "text/markdown": [
       "Max f = 7x1 + x2 - 4x3"
      ],
      "text/plain": [
       "<IPython.core.display.Markdown object>"
      ]
     },
     "metadata": {},
     "output_type": "display_data"
    },
    {
     "data": {
      "text/markdown": [
       "Subject to:"
      ],
      "text/plain": [
       "<IPython.core.display.Markdown object>"
      ]
     },
     "metadata": {},
     "output_type": "display_data"
    },
    {
     "data": {
      "text/markdown": [
       "-6x1 + 4x2 + 5x3 >= -20"
      ],
      "text/plain": [
       "<IPython.core.display.Markdown object>"
      ]
     },
     "metadata": {},
     "output_type": "display_data"
    },
    {
     "data": {
      "text/markdown": [
       "x1 + 2x2 - x3 = 8"
      ],
      "text/plain": [
       "<IPython.core.display.Markdown object>"
      ]
     },
     "metadata": {},
     "output_type": "display_data"
    },
    {
     "data": {
      "text/markdown": [
       "3x1 + 2x2 - x3 <= -8"
      ],
      "text/plain": [
       "<IPython.core.display.Markdown object>"
      ]
     },
     "metadata": {},
     "output_type": "display_data"
    },
    {
     "data": {
      "text/markdown": [
       "x_j ≥ 0, j = 1,2,...,3"
      ],
      "text/plain": [
       "<IPython.core.display.Markdown object>"
      ]
     },
     "metadata": {},
     "output_type": "display_data"
    },
    {
     "name": "stdout",
     "output_type": "stream",
     "text": [
      "=== Bài toán 2 ===\n"
     ]
    },
    {
     "data": {
      "text/markdown": [
       "**Bài toán tối ưu tuyến tính:**"
      ],
      "text/plain": [
       "<IPython.core.display.Markdown object>"
      ]
     },
     "metadata": {},
     "output_type": "display_data"
    },
    {
     "data": {
      "text/markdown": [
       "Max f = x1 + 2x2 + 3x3"
      ],
      "text/plain": [
       "<IPython.core.display.Markdown object>"
      ]
     },
     "metadata": {},
     "output_type": "display_data"
    },
    {
     "data": {
      "text/markdown": [
       "Subject to:"
      ],
      "text/plain": [
       "<IPython.core.display.Markdown object>"
      ]
     },
     "metadata": {},
     "output_type": "display_data"
    },
    {
     "data": {
      "text/markdown": [
       "x1 - x2 + 2x3 = 3"
      ],
      "text/plain": [
       "<IPython.core.display.Markdown object>"
      ]
     },
     "metadata": {},
     "output_type": "display_data"
    },
    {
     "data": {
      "text/markdown": [
       "3x1 + 4x2 - 2x3 = 5"
      ],
      "text/plain": [
       "<IPython.core.display.Markdown object>"
      ]
     },
     "metadata": {},
     "output_type": "display_data"
    },
    {
     "data": {
      "text/markdown": [
       "x_j ≥ 0, j = 1,2,...,3"
      ],
      "text/plain": [
       "<IPython.core.display.Markdown object>"
      ]
     },
     "metadata": {},
     "output_type": "display_data"
    },
    {
     "name": "stdout",
     "output_type": "stream",
     "text": [
      "=== Bài toán 3 ===\n"
     ]
    },
    {
     "data": {
      "text/markdown": [
       "**Bài toán tối ưu tuyến tính:**"
      ],
      "text/plain": [
       "<IPython.core.display.Markdown object>"
      ]
     },
     "metadata": {},
     "output_type": "display_data"
    },
    {
     "data": {
      "text/markdown": [
       "Max f = 2x1 - x2 - 2x3"
      ],
      "text/plain": [
       "<IPython.core.display.Markdown object>"
      ]
     },
     "metadata": {},
     "output_type": "display_data"
    },
    {
     "data": {
      "text/markdown": [
       "Subject to:"
      ],
      "text/plain": [
       "<IPython.core.display.Markdown object>"
      ]
     },
     "metadata": {},
     "output_type": "display_data"
    },
    {
     "data": {
      "text/markdown": [
       "x1 + x2 - x3 = -1"
      ],
      "text/plain": [
       "<IPython.core.display.Markdown object>"
      ]
     },
     "metadata": {},
     "output_type": "display_data"
    },
    {
     "data": {
      "text/markdown": [
       "x1 + 2x2 + x3 = 2"
      ],
      "text/plain": [
       "<IPython.core.display.Markdown object>"
      ]
     },
     "metadata": {},
     "output_type": "display_data"
    },
    {
     "data": {
      "text/markdown": [
       "x_j ≥ 0, j = 1,2,...,3"
      ],
      "text/plain": [
       "<IPython.core.display.Markdown object>"
      ]
     },
     "metadata": {},
     "output_type": "display_data"
    }
   ],
   "source": [
    "def format_number(num):\n",
    "        return int(num) if num == int(num) else round(num, 2)\n",
    "\n",
    "# Hiển thị bài toán\n",
    "def display_problem(c, A, b, signs):\n",
    "    \"\"\"\n",
    "    Hiển thị bài toán tối ưu tuyến tính dưới dạng dễ đọc\n",
    "    \"\"\"\n",
    "\n",
    "    n = len(c)\n",
    "    m = len(b)\n",
    "    \n",
    "    # Hiển thị hàm mục tiêu\n",
    "    obj_func = \"Max f = \"\n",
    "    for i in range(n):\n",
    "        coef = format_number(c[i])\n",
    "        if i > 0:\n",
    "            if coef >= 0:\n",
    "                obj_func += f\" + {coef}x{i+1}\" if coef != 1 else f\" + x{i+1}\"\n",
    "            else:\n",
    "                obj_func += f\" - {abs(coef)}x{i+1}\" if abs(coef) != 1 else f\" - x{i+1}\"\n",
    "        else:\n",
    "            obj_func += f\"{coef}x{i+1}\" if coef != 1 else f\"x{i+1}\"\n",
    "    \n",
    "    # Hiển thị các ràng buộc\n",
    "    constraints = [\"Subject to:\"]\n",
    "    for i in range(m):\n",
    "        constraint = \"\"\n",
    "        for j in range(n):\n",
    "            coef = format_number(A[i][j])\n",
    "            if j > 0:\n",
    "                if coef >= 0:\n",
    "                    constraint += f\" + {coef}x{j+1}\" if coef != 1 else f\" + x{j+1}\"\n",
    "                else:\n",
    "                    constraint += f\" - {abs(coef)}x{j+1}\" if abs(coef) != 1 else f\" - x{j+1}\"\n",
    "            else:\n",
    "                if coef >= 0:\n",
    "                    constraint += f\"{coef}x{j+1}\" if coef != 1 else f\"x{j+1}\"\n",
    "                else:\n",
    "                    constraint += f\"-{abs(coef)}x{j+1}\" if abs(coef) != 1 else f\"-x{j+1}\"\n",
    "        \n",
    "        rhs = format_number(b[i])\n",
    "        constraint += f\" {signs[i]} {rhs}\"\n",
    "        constraints.append(constraint)\n",
    "    \n",
    "    # Hiển thị ràng buộc không âm\n",
    "    non_neg = \"x_j ≥ 0, j = 1,2,...,\" + str(n)\n",
    "    \n",
    "    # In ra kết quả\n",
    "    display(Markdown(f\"**Bài toán tối ưu tuyến tính:**\"))\n",
    "    display(Markdown(obj_func))\n",
    "    for constraint in constraints:\n",
    "        display(Markdown(constraint))\n",
    "    display(Markdown(non_neg))\n",
    "\n",
    "# Hiển thị từng bài toán từ thư mục input\n",
    "for idx, (c, A, b, signs) in enumerate(problems):\n",
    "    print(f\"=== Bài toán {idx + 1} ===\")\n",
    "    display_problem(c, A, b, signs)\n",
    "\n",
    "# Nếu dùng hàm parse_input() thì dùng đoạn này thay cho đoạn vừa rồi: \n",
    "# c, A, b, signs = parse_input()\n",
    "# display_problem(c, A, b, signs)"
   ]
  },
  {
   "cell_type": "code",
   "execution_count": 13,
   "id": "d1f355b1",
   "metadata": {},
   "outputs": [
    {
     "name": "stdout",
     "output_type": "stream",
     "text": [
      "=== Sau khi tiền xử lý ===\n",
      "-1.0x1 + - 1.0x2 + 1.0x3 = 1.0\n",
      "1.0x1 + 2.0x2 + 1.0x3 = 2.0\n"
     ]
    }
   ],
   "source": [
    "# Tiền xử lý các ràng buộc\n",
    "\n",
    "def preprocess_constraints(A, b, signs):\n",
    "    \"\"\"\n",
    "    Tiền xử lý các ràng buộc để đảm bảo vế phải không âm.\n",
    "    \n",
    "    Args:\n",
    "        A (list): Ma trận hệ số của các ràng buộc\n",
    "        b (list): Vecto vế phải\n",
    "        signs (list): Danh sách các dấu ràng buộc ('<=', '=', '>=')\n",
    "        \n",
    "    Returns:\n",
    "        tuple: (new_A, new_b, new_signs) - Ma trận hệ số, vecto vế phải và dấu ràng buộc sau khi xử lý\n",
    "    \"\"\"\n",
    "    new_A = []\n",
    "    new_b = []\n",
    "    new_signs = []\n",
    "\n",
    "    for i in range(len(A)):\n",
    "        row = A[i].copy()  # Tạo bản sao để tránh thay đổi dữ liệu gốc\n",
    "        rhs = b[i]\n",
    "        sign = signs[i]\n",
    "\n",
    "        # Đưa RHS về không âm\n",
    "        if rhs < 0:\n",
    "            row = [-x for x in row]\n",
    "            rhs = -rhs\n",
    "            if sign == '<=':\n",
    "                sign = '>='\n",
    "            elif sign == '>=':\n",
    "                sign = '<='\n",
    "\n",
    "        new_A.append(row)\n",
    "        new_b.append(rhs)\n",
    "        new_signs.append(sign)\n",
    "\n",
    "    return new_A, new_b, new_signs\n",
    "\n",
    "# Test preprocessing\n",
    "new_A, new_b, new_signs = preprocess_constraints(A, b, signs)\n",
    "\n",
    "# Hiển thị kết quả preprocessing\n",
    "print(\"=== Sau khi tiền xử lý ===\")\n",
    "for i in range(len(new_A)):\n",
    "    row_str = \" + \".join([f\"{coef}x{j+1}\" if j == 0 or coef >= 0 else f\"- {abs(coef)}x{j+1}\" \n",
    "                           for j, coef in enumerate(new_A[i]) if coef != 0])\n",
    "    print(f\"{row_str} {new_signs[i]} {new_b[i]}\")"
   ]
  },
  {
   "cell_type": "code",
   "execution_count": 14,
   "id": "250f0a66",
   "metadata": {},
   "outputs": [],
   "source": [
    "# Xây dựng bảng đơn hình Big-M\n",
    "\n",
    "def build_bigM_tableau(c, A, b, signs):\n",
    "    \"\"\"\n",
    "    Xây dựng bảng đơn hình ban đầu cho phương pháp Big-M.\n",
    "    \n",
    "    Args:\n",
    "        c (list): Hệ số hàm mục tiêu\n",
    "        A (list): Ma trận hệ số của các ràng buộc\n",
    "        b (list): Vecto vế phải\n",
    "        signs (list): Danh sách các dấu ràng buộc ('<=', '=', '>=')\n",
    "        \n",
    "    Returns:\n",
    "        tuple: (basis, basis_cost, b, tableau, z_row, rhs_z, var_names, c_extended)\n",
    "    \"\"\"\n",
    "    A, b, signs = preprocess_constraints(A, b, signs)\n",
    "\n",
    "    num_orig_vars = len(c)\n",
    "    tableau = []\n",
    "    basis = []\n",
    "    basis_cost = []\n",
    "    var_names = [f\"x{i+1}\" for i in range(num_orig_vars)]\n",
    "    c_extended = c[:]  # Bắt đầu với hệ số gốc\n",
    "\n",
    "    for i, (row, sign) in enumerate(zip(A, signs)):\n",
    "        row_extended = row[:]\n",
    "\n",
    "        if sign == '<=':\n",
    "            # Thêm biến slack\n",
    "            row_extended += [0] * (len(var_names) - len(row_extended))\n",
    "            row_extended.append(1)\n",
    "            var_names.append(f\"x{len(var_names)+1}\")\n",
    "            c_extended.append(0)\n",
    "            basis.append(len(var_names) - 1)\n",
    "            basis_cost.append(0)\n",
    "\n",
    "        elif sign == '>=':\n",
    "            # Thêm biến surplus và artificial\n",
    "            row_extended += [0] * (len(var_names) - len(row_extended))\n",
    "            row_extended.append(-1)\n",
    "            var_names.append(f\"x{len(var_names)+1}\")\n",
    "            c_extended.append(0)\n",
    "\n",
    "            row_extended.append(1)\n",
    "            var_names.append(f\"x{len(var_names)+1}\")\n",
    "            c_extended.append(-M)\n",
    "            basis.append(len(var_names) - 1)\n",
    "            basis_cost.append(-M)\n",
    "\n",
    "        elif sign == '=':\n",
    "            # Thêm artificial\n",
    "            row_extended += [0] * (len(var_names) - len(row_extended))\n",
    "            row_extended.append(1)\n",
    "            var_names.append(f\"x{len(var_names)+1}\")\n",
    "            c_extended.append(-M)\n",
    "            basis.append(len(var_names) - 1)\n",
    "            basis_cost.append(-M)\n",
    "\n",
    "        tableau.append(row_extended)\n",
    "\n",
    "    # Đệm 0 để làm đều các dòng\n",
    "    total_vars = len(var_names)\n",
    "    for row in tableau:\n",
    "        row += [0] * (total_vars - len(row))\n",
    "\n",
    "    # Cách tính z_row dựa trên định nghĩa\n",
    "    z_row = [0] * total_vars\n",
    "    rhs_z = 0\n",
    "    \n",
    "    # Tính RHS của hàng Z: Σ(cBi·bi)\n",
    "    for i in range(len(tableau)):\n",
    "        rhs_z += basis_cost[i] * b[i]\n",
    "    \n",
    "    # Với mỗi biến j, tính Δj = Σ(cBi·aij) - cj\n",
    "    for j in range(total_vars):\n",
    "        # Tính Σ(cBi·aij)\n",
    "        sum_cb_aij = 0\n",
    "        for i in range(len(tableau)):\n",
    "            sum_cb_aij += basis_cost[i] * tableau[i][j]\n",
    "        \n",
    "        # Trừ đi cj\n",
    "        z_row[j] = sum_cb_aij - c_extended[j]\n",
    "\n",
    "    return basis, basis_cost, b, tableau, z_row, rhs_z, var_names, c_extended\n",
    "\n",
    "# Xây dựng bảng từ dữ liệu đầu vào\n",
    "basis, basis_cost, b, tableau, z_row, rhs_z, var_names, c_extended = build_bigM_tableau(c, A, b, signs)"
   ]
  },
  {
   "cell_type": "code",
   "execution_count": 15,
   "id": "d882e9d6",
   "metadata": {},
   "outputs": [
    {
     "name": "stdout",
     "output_type": "stream",
     "text": [
      "\n",
      "=== Bảng đơn hình ban đầu (phương pháp Big-M) ===\n",
      "\n",
      " Biến cơ sở  |    Hệ số     |  Phương án   |      x1      |      x2      |      x3      |      x4      |      x5     \n",
      "----------------------------------------------------------------------------------------------------------------\n",
      "             |              |              |      2       |      -1      |      -2      |    -1000     |    -1000    \n",
      "----------------------------------------------------------------------------------------------------------------\n",
      "     x4      |    -1000     |      1       |      -1      |      -1      |      1       |      1       |      0      \n",
      "     x5      |    -1000     |      2       |      1       |      2       |      1       |      0       |      1      \n",
      "----------------------------------------------------------------------------------------------------------------\n",
      "     Z       |              |    -3000     |      -2      |     -999     |    -1998     |      0       |      0      \n"
     ]
    },
    {
     "data": {
      "text/markdown": [
       "**Hệ số hàm mục tiêu (c):**"
      ],
      "text/plain": [
       "<IPython.core.display.Markdown object>"
      ]
     },
     "metadata": {},
     "output_type": "display_data"
    },
    {
     "data": {
      "text/html": [
       "<div>\n",
       "<style scoped>\n",
       "    .dataframe tbody tr th:only-of-type {\n",
       "        vertical-align: middle;\n",
       "    }\n",
       "\n",
       "    .dataframe tbody tr th {\n",
       "        vertical-align: top;\n",
       "    }\n",
       "\n",
       "    .dataframe thead th {\n",
       "        text-align: right;\n",
       "    }\n",
       "</style>\n",
       "<table border=\"1\" class=\"dataframe\">\n",
       "  <thead>\n",
       "    <tr style=\"text-align: right;\">\n",
       "      <th></th>\n",
       "      <th>x1</th>\n",
       "      <th>x2</th>\n",
       "      <th>x3</th>\n",
       "      <th>x4</th>\n",
       "      <th>x5</th>\n",
       "    </tr>\n",
       "  </thead>\n",
       "  <tbody>\n",
       "    <tr>\n",
       "      <th>0</th>\n",
       "      <td>2</td>\n",
       "      <td>-1</td>\n",
       "      <td>-2</td>\n",
       "      <td>-1000</td>\n",
       "      <td>-1000</td>\n",
       "    </tr>\n",
       "  </tbody>\n",
       "</table>\n",
       "</div>"
      ],
      "text/plain": [
       "   x1  x2  x3    x4    x5\n",
       "0   2  -1  -2 -1000 -1000"
      ]
     },
     "metadata": {},
     "output_type": "display_data"
    },
    {
     "data": {
      "text/markdown": [
       "**Bảng đơn hình:**"
      ],
      "text/plain": [
       "<IPython.core.display.Markdown object>"
      ]
     },
     "metadata": {},
     "output_type": "display_data"
    },
    {
     "data": {
      "text/html": [
       "<div>\n",
       "<style scoped>\n",
       "    .dataframe tbody tr th:only-of-type {\n",
       "        vertical-align: middle;\n",
       "    }\n",
       "\n",
       "    .dataframe tbody tr th {\n",
       "        vertical-align: top;\n",
       "    }\n",
       "\n",
       "    .dataframe thead th {\n",
       "        text-align: right;\n",
       "    }\n",
       "</style>\n",
       "<table border=\"1\" class=\"dataframe\">\n",
       "  <thead>\n",
       "    <tr style=\"text-align: right;\">\n",
       "      <th></th>\n",
       "      <th>Biến cơ sở</th>\n",
       "      <th>Hệ số</th>\n",
       "      <th>Phương án</th>\n",
       "      <th>x1</th>\n",
       "      <th>x2</th>\n",
       "      <th>x3</th>\n",
       "      <th>x4</th>\n",
       "      <th>x5</th>\n",
       "    </tr>\n",
       "  </thead>\n",
       "  <tbody>\n",
       "    <tr>\n",
       "      <th>0</th>\n",
       "      <td>x4</td>\n",
       "      <td>-1000</td>\n",
       "      <td>1</td>\n",
       "      <td>-1</td>\n",
       "      <td>-1</td>\n",
       "      <td>1</td>\n",
       "      <td>1</td>\n",
       "      <td>0</td>\n",
       "    </tr>\n",
       "    <tr>\n",
       "      <th>1</th>\n",
       "      <td>x5</td>\n",
       "      <td>-1000</td>\n",
       "      <td>2</td>\n",
       "      <td>1</td>\n",
       "      <td>2</td>\n",
       "      <td>1</td>\n",
       "      <td>0</td>\n",
       "      <td>1</td>\n",
       "    </tr>\n",
       "    <tr>\n",
       "      <th>2</th>\n",
       "      <td>Z</td>\n",
       "      <td></td>\n",
       "      <td>-3000</td>\n",
       "      <td>-2</td>\n",
       "      <td>-999</td>\n",
       "      <td>-1998</td>\n",
       "      <td>0</td>\n",
       "      <td>0</td>\n",
       "    </tr>\n",
       "  </tbody>\n",
       "</table>\n",
       "</div>"
      ],
      "text/plain": [
       "  Biến cơ sở  Hệ số  Phương án  x1   x2    x3  x4  x5\n",
       "0         x4  -1000          1  -1   -1     1   1   0\n",
       "1         x5  -1000          2   1    2     1   0   1\n",
       "2          Z             -3000  -2 -999 -1998   0   0"
      ]
     },
     "metadata": {},
     "output_type": "display_data"
    }
   ],
   "source": [
    "# Hiển thị bảng đơn hình Big-M\n",
    "def print_bigM_tableau(basis, basis_cost, b, tableau, z_row, rhs_z, var_names, c_extended):\n",
    "    \"\"\"\n",
    "    Hiển thị bảng đơn hình cho phương pháp Big-M.\n",
    "    \n",
    "    Args:\n",
    "        basis (list): Chỉ số của các biến trong cơ sở\n",
    "        basis_cost (list): Chi phí của các biến trong cơ sở\n",
    "        b (list): Vecto vế phải\n",
    "        tableau (list): Bảng đơn hình\n",
    "        z_row (list): Hàng Z-row (reduced costs)\n",
    "        rhs_z (float): Giá trị hàm mục tiêu\n",
    "        var_names (list): Tên của các biến\n",
    "        c_extended (list): Hệ số chi phí mở rộng\n",
    "    \"\"\"\n",
    "\n",
    "    print(\"\\n=== Bảng đơn hình ban đầu (phương pháp Big-M) ===\\n\")\n",
    "\n",
    "    num_vars = len(var_names)\n",
    "    header = [\"Biến cơ sở\", \"Hệ số\", \"Phương án\"] + var_names\n",
    "    print(\" | \".join(f\"{h:^12}\" for h in header))\n",
    "    print(\"-\" * (14 * len(header)))\n",
    "\n",
    "    # Hiển thị hệ số hàm mục tiêu (bao gồm cả artificial variables)\n",
    "    c_row = [\" \" * 12, \" \" * 12, \" \" * 12] + [f\"{format_number(coef):^12}\" for coef in c_extended]\n",
    "    print(\" | \".join(c_row))\n",
    "    print(\"-\" * (14 * len(header)))\n",
    "\n",
    "    for i in range(len(basis)):\n",
    "        var = var_names[basis[i]]\n",
    "        coef = format_number(basis_cost[i])\n",
    "        row_vals = [format_number(v) for v in tableau[i]]\n",
    "        row_str = [f\"{var:^12}\", f\"{coef:^12}\", f\"{format_number(b[i]):^12}\"] + [f\"{v:^12}\" for v in row_vals]\n",
    "        print(\" | \".join(row_str))\n",
    "\n",
    "    # Hiển thị toàn bộ z_row\n",
    "    z_row_vals = [format_number(v) for v in z_row]\n",
    "    z_row_str = [\"Z\".center(12), \" \".center(12), f\"{format_number(rhs_z):^12}\"] + [f\"{v:^12}\" for v in z_row_vals]\n",
    "    print(\"-\" * (14 * len(header)))\n",
    "    print(\" | \".join(z_row_str))\n",
    "\n",
    "# Hiển thị bảng đơn hình dạng Pandas DataFrame\n",
    "def display_tableau_df(basis, basis_cost, b, tableau, z_row, rhs_z, var_names, c_extended):\n",
    "    \"\"\"\n",
    "    Hiển thị bảng đơn hình dưới dạng DataFrame cho dễ đọc.\n",
    "    \"\"\"\n",
    "    # Tạo DataFrame cho bảng chính\n",
    "    data = []\n",
    "    for i in range(len(basis)):\n",
    "        row_data = {\n",
    "            'Biến cơ sở': var_names[basis[i]],\n",
    "            'Hệ số': format_number(basis_cost[i]),\n",
    "            'Phương án': format_number(b[i])\n",
    "        }\n",
    "        for j, name in enumerate(var_names):\n",
    "            row_data[name] = format_number(tableau[i][j])\n",
    "        data.append(row_data)\n",
    "    \n",
    "    # Thêm hàng Z\n",
    "    z_data = {\n",
    "        'Biến cơ sở': 'Z',\n",
    "        'Hệ số': '',\n",
    "        'Phương án': format_number(rhs_z)\n",
    "    }\n",
    "    for j, name in enumerate(var_names):\n",
    "        z_data[name] = format_number(z_row[j])\n",
    "    data.append(z_data)\n",
    "    \n",
    "    # Tạo DataFrame\n",
    "    df = pd.DataFrame(data)\n",
    "    \n",
    "    # Hiển thị các hệ số hàm mục tiêu\n",
    "    display(Markdown(\"**Hệ số hàm mục tiêu (c):**\"))\n",
    "    c_data = {}\n",
    "    for j, name in enumerate(var_names):\n",
    "        c_data[name] = format_number(c_extended[j])\n",
    "    c_df = pd.DataFrame([c_data])\n",
    "    display(c_df)\n",
    "    \n",
    "    display(Markdown(\"**Bảng đơn hình:**\"))\n",
    "    return df\n",
    "\n",
    "# Hiển thị bảng đơn hình\n",
    "print_bigM_tableau(basis, basis_cost, b, tableau, z_row, rhs_z, var_names, c_extended)\n",
    "\n",
    "# Hiển thị bảng đơn hình dạng DataFrame\n",
    "tableau_df = display_tableau_df(basis, basis_cost, b, tableau, z_row, rhs_z, var_names, c_extended)\n",
    "display(tableau_df)"
   ]
  },
  {
   "cell_type": "markdown",
   "id": "f6a0618b",
   "metadata": {},
   "source": [
    "Nếu muốn từ một folder input gồm nhiều file testcase khác nhau dạng .txt, ta sẽ dùng hàm ở cell dưới đây để xuát ra kết quả các file output dạng .txt với những bảng đơn hình xuất phát tương ứng."
   ]
  },
  {
   "cell_type": "code",
   "execution_count": 16,
   "id": "7ba3a467",
   "metadata": {},
   "outputs": [
    {
     "name": "stdout",
     "output_type": "stream",
     "text": [
      "Đang xử lý file: test1.txt\n",
      "\n",
      "=== Bảng đơn hình ban đầu (phương pháp Big-M) ===\n",
      "\n",
      " Biến cơ sở  |    Hệ số     |  Phương án   |      x1      |      x2      |      x3      |      x4      |      x5      |      x6      |      x7     \n",
      "--------------------------------------------------------------------------------------------------------------------------------------------\n",
      "             |              |              |      7       |      1       |      -4      |      0       |    -1000     |      0       |    -1000    \n",
      "--------------------------------------------------------------------------------------------------------------------------------------------\n",
      "     x4      |      0       |      20      |      6       |      -4      |      -5      |      1       |      0       |      0       |      0      \n",
      "     x5      |    -1000     |      8       |      1       |      2       |      -1      |      0       |      1       |      0       |      0      \n",
      "     x7      |    -1000     |      8       |      -3      |      -2      |      1       |      0       |      0       |      -1      |      1      \n",
      "--------------------------------------------------------------------------------------------------------------------------------------------\n",
      "     Z       |              |    -16000    |     1993     |      -1      |      4       |      0       |      0       |     1000     |      0      \n",
      "Bảng đơn hình đã được lưu vào: ./output\\test1_output.txt\n",
      "Đang xử lý file: test2.txt\n",
      "\n",
      "=== Bảng đơn hình ban đầu (phương pháp Big-M) ===\n",
      "\n",
      " Biến cơ sở  |    Hệ số     |  Phương án   |      x1      |      x2      |      x3      |      x4      |      x5     \n",
      "----------------------------------------------------------------------------------------------------------------\n",
      "             |              |              |      1       |      2       |      3       |    -1000     |    -1000    \n",
      "----------------------------------------------------------------------------------------------------------------\n",
      "     x4      |    -1000     |      3       |      1       |      -1      |      2       |      1       |      0      \n",
      "     x5      |    -1000     |      5       |      3       |      4       |      -2      |      0       |      1      \n",
      "----------------------------------------------------------------------------------------------------------------\n",
      "     Z       |              |    -8000     |    -4001     |    -3002     |      -3      |      0       |      0      \n",
      "Bảng đơn hình đã được lưu vào: ./output\\test2_output.txt\n",
      "Đang xử lý file: test3.txt\n",
      "\n",
      "=== Bảng đơn hình ban đầu (phương pháp Big-M) ===\n",
      "\n",
      " Biến cơ sở  |    Hệ số     |  Phương án   |      x1      |      x2      |      x3      |      x4      |      x5     \n",
      "----------------------------------------------------------------------------------------------------------------\n",
      "             |              |              |      2       |      -1      |      -2      |    -1000     |    -1000    \n",
      "----------------------------------------------------------------------------------------------------------------\n",
      "     x4      |    -1000     |      1       |      -1      |      -1      |      1       |      1       |      0      \n",
      "     x5      |    -1000     |      2       |      1       |      2       |      1       |      0       |      1      \n",
      "----------------------------------------------------------------------------------------------------------------\n",
      "     Z       |              |    -3000     |      -2      |     -999     |    -1998     |      0       |      0      \n",
      "Bảng đơn hình đã được lưu vào: ./output\\test3_output.txt\n"
     ]
    }
   ],
   "source": [
    "import os\n",
    "\n",
    "def save_tableau_to_file(output_folder, file_name, basis, basis_cost, b, tableau, z_row, rhs_z, var_names, c_extended):\n",
    "    \"\"\"\n",
    "    Lưu bảng đơn hình vào file TXT trong thư mục output.\n",
    "    \"\"\"\n",
    "    # Tạo thư mục output nếu chưa tồn tại\n",
    "    if not os.path.exists(output_folder):\n",
    "        os.makedirs(output_folder)\n",
    "\n",
    "    # Tạo nội dung bảng đơn hình dưới dạng chuỗi\n",
    "    output_lines = []\n",
    "    header = [\"Biến cơ sở\", \"Hệ số\", \"Phương án\"] + var_names\n",
    "    output_lines.append(\" | \".join(f\"{h:^12}\" for h in header))\n",
    "    output_lines.append(\"-\" * (14 * len(header)))\n",
    "\n",
    "    # Hệ số hàm mục tiêu\n",
    "    c_row = [\" \" * 12, \" \" * 12, \" \" * 12] + [f\"{format_number(coef):^12}\" for coef in c_extended]\n",
    "    output_lines.append(\" | \".join(c_row))\n",
    "    output_lines.append(\"-\" * (14 * len(header)))\n",
    "\n",
    "    # Các dòng của bảng đơn hình\n",
    "    for i in range(len(basis)):\n",
    "        var = var_names[basis[i]]\n",
    "        coef = format_number(basis_cost[i])\n",
    "        row_vals = [format_number(v) for v in tableau[i]]\n",
    "        row_str = [f\"{var:^12}\", f\"{coef:^12}\", f\"{format_number(b[i]):^12}\"] + [f\"{v:^12}\" for v in row_vals]\n",
    "        output_lines.append(\" | \".join(row_str))\n",
    "\n",
    "    # Hàng Z-row\n",
    "    z_row_vals = [format_number(v) for v in z_row]\n",
    "    z_row_str = [\"Z\".center(12), \" \".center(12), f\"{format_number(rhs_z):^12}\"] + [f\"{v:^12}\" for v in z_row_vals]\n",
    "    output_lines.append(\"-\" * (14 * len(header)))\n",
    "    output_lines.append(\" | \".join(z_row_str))\n",
    "\n",
    "    # Lưu nội dung vào file TXT\n",
    "    output_file = os.path.join(output_folder, f\"{file_name}_output.txt\")\n",
    "    with open(output_file, \"w\", encoding=\"utf-8\") as f:\n",
    "        f.write(\"\\n\".join(output_lines))\n",
    "    print(f\"Bảng đơn hình đã được lưu vào: {output_file}\")\n",
    "\n",
    "# Xử lý từng file testcase trong thư mục input\n",
    "input_folder = \"./input\"\n",
    "output_folder = \"./output\"\n",
    "\n",
    "if not os.path.exists(output_folder):\n",
    "    os.makedirs(output_folder)\n",
    "\n",
    "for file_name in os.listdir(input_folder):\n",
    "    if file_name.endswith('.txt'):\n",
    "        file_path = os.path.join(input_folder, file_name)\n",
    "        print(f\"Đang xử lý file: {file_name}\")\n",
    "\n",
    "        # Đọc dữ liệu từ file\n",
    "        c, A, b, signs = parse_input_from_file(file_path)\n",
    "\n",
    "        # Xây dựng bảng đơn hình Big-M\n",
    "        basis, basis_cost, b, tableau, z_row, rhs_z, var_names, c_extended = build_bigM_tableau(c, A, b, signs)\n",
    "\n",
    "        # Hiển thị bảng đơn hình\n",
    "        print_bigM_tableau(basis, basis_cost, b, tableau, z_row, rhs_z, var_names, c_extended)\n",
    "\n",
    "        # Lưu bảng đơn hình vào file output\n",
    "        save_tableau_to_file(output_folder, file_name.split('.')[0], basis, basis_cost, b, tableau, z_row, rhs_z, var_names, c_extended)"
   ]
  }
 ],
 "metadata": {
  "kernelspec": {
   "display_name": "Python 3",
   "language": "python",
   "name": "python3"
  },
  "language_info": {
   "codemirror_mode": {
    "name": "ipython",
    "version": 3
   },
   "file_extension": ".py",
   "mimetype": "text/x-python",
   "name": "python",
   "nbconvert_exporter": "python",
   "pygments_lexer": "ipython3",
   "version": "3.11.9"
  }
 },
 "nbformat": 4,
 "nbformat_minor": 5
}
