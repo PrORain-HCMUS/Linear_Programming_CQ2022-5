{
 "cells": [
  {
   "cell_type": "code",
   "execution_count": 7,
   "id": "8bf47232",
   "metadata": {},
   "outputs": [
    {
     "name": "stdout",
     "output_type": "stream",
     "text": [
      "Status: Optimal\n",
      "Optimal Total Leftover = 87.0\n",
      "a1 = 26.0\n",
      "a2 = 0.0\n",
      "a3 = 50.0\n",
      "a4 = 0.0\n",
      "b1 = 1.0\n",
      "b2 = 0.0\n",
      "b3 = 0.0\n"
     ]
    }
   ],
   "source": [
    "import pulp\n",
    "\n",
    "# 1. Khoi tao bai toan toi uu (Minimize)\n",
    "model = pulp.LpProblem(\"CuttingStockProblem\", pulp.LpMinimize)\n",
    "\n",
    "# 2. Khai bao cac bien nguyen khong am\n",
    "a1 = pulp.LpVariable('a1', lowBound=0, cat='Integer')\n",
    "a2 = pulp.LpVariable('a2', lowBound=0, cat='Integer')\n",
    "a3 = pulp.LpVariable('a3', lowBound=0, cat='Integer')\n",
    "a4 = pulp.LpVariable('a4', lowBound=0, cat='Integer')\n",
    "b1 = pulp.LpVariable('b1', lowBound=0, cat='Integer')\n",
    "b2 = pulp.LpVariable('b2', lowBound=0, cat='Integer')\n",
    "b3 = pulp.LpVariable('b3', lowBound=0, cat='Integer')\n",
    "\n",
    "# 3. Dinh nghia ham muc tieu (tong chieu dai thep du thua)\n",
    "model += 0.6*a1 + 1.0*a2 + 1.4*a3 + 1.8*a4 + 1.4*b1 + 1.8*b2 + 2.2*b3\n",
    "\n",
    "# 4. Them cac rang buoc nhu cau\n",
    "# Rang buoc tong doan 2.4m >= 100\n",
    "model += 1*a2 + 2*a3 + 3*a4 + 1*b2 + 2*b3 == 100\n",
    "# Rang buoc tong doan 2.8m >= 130\n",
    "model += 3*a1 + 2*a2 + 1*a3 + 2*b1 + 1*b2 == 130\n",
    "\n",
    "# 5. Giai bai toan\n",
    "model.solve(pulp.PULP_CBC_CMD(msg=0))\n",
    "\n",
    "# 6. In ket qua toi uu\n",
    "print(\"Status:\", pulp.LpStatus[model.status])\n",
    "print(\"Optimal Total Leftover =\", pulp.value(model.objective))\n",
    "for var in [a1, a2, a3, a4, b1, b2, b3]:\n",
    "    print(var.name, \"=\", var.value())\n"
   ]
  }
 ],
 "metadata": {
  "kernelspec": {
   "display_name": "Python 3",
   "language": "python",
   "name": "python3"
  },
  "language_info": {
   "codemirror_mode": {
    "name": "ipython",
    "version": 3
   },
   "file_extension": ".py",
   "mimetype": "text/x-python",
   "name": "python",
   "nbconvert_exporter": "python",
   "pygments_lexer": "ipython3",
   "version": "3.11.9"
  }
 },
 "nbformat": 4,
 "nbformat_minor": 5
}
