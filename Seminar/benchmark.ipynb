{
 "cells": [
  {
   "cell_type": "code",
   "execution_count": 1,
   "id": "881fbc01",
   "metadata": {},
   "outputs": [
    {
     "name": "stdout",
     "output_type": "stream",
     "text": [
      "Số trạng thái: 16, Số hành động: 4\n"
     ]
    }
   ],
   "source": [
    "import gymnasium as gym\n",
    "import numpy as np\n",
    "import matplotlib.pyplot as plt\n",
    "from time import time\n",
    "\n",
    "\n",
    "env = gym.make(\"FrozenLake-v1\", is_slippery=False)\n",
    "env = env.unwrapped  \n",
    "\n",
    "n_states = env.observation_space.n\n",
    "n_actions = env.action_space.n\n",
    "\n",
    "print(f\"Số trạng thái: {n_states}, Số hành động: {n_actions}\")\n",
    "\n"
   ]
  },
  {
   "cell_type": "code",
   "execution_count": 2,
   "id": "72c02932",
   "metadata": {},
   "outputs": [],
   "source": [
    "def value_iteration(env, gamma=0.99, theta=1e-8):\n",
    "    V = np.zeros(env.observation_space.n)\n",
    "    policy = np.zeros(env.observation_space.n, dtype=int)\n",
    "    iteration = 0\n",
    "\n",
    "    while True:\n",
    "        delta = 0\n",
    "        for s in range(env.observation_space.n):\n",
    "            A = np.zeros(env.action_space.n)\n",
    "            for a in range(env.action_space.n):\n",
    "                for prob, next_s, reward, done in env.P[s][a]:\n",
    "                    A[a] += prob * (reward + gamma * V[next_s])\n",
    "            best_action_value = np.max(A)\n",
    "            delta = max(delta, np.abs(V[s] - best_action_value))\n",
    "            V[s] = best_action_value\n",
    "            policy[s] = np.argmax(A)\n",
    "        iteration += 1\n",
    "        if delta < theta:\n",
    "            break\n",
    "\n",
    "    return V, policy, iteration\n"
   ]
  },
  {
   "cell_type": "code",
   "execution_count": 3,
   "id": "8d2f4c08",
   "metadata": {},
   "outputs": [],
   "source": [
    "import cvxpy as cp\n",
    "\n",
    "def solve_lp(env, gamma=0.99):\n",
    "    V = cp.Variable(n_states)\n",
    "    constraints = []\n",
    "\n",
    "    for s in range(n_states):\n",
    "        for a in range(n_actions):\n",
    "            rhs = 0\n",
    "            for prob, next_s, reward, done in env.P[s][a]:\n",
    "                rhs += prob * (reward + gamma * V[next_s])\n",
    "            constraints.append(V[s] >= rhs)\n",
    "\n",
    "    objective = cp.Minimize(cp.sum(V))\n",
    "    problem = cp.Problem(objective, constraints)\n",
    "    problem.solve()\n",
    "\n",
    "    return V.value\n"
   ]
  },
  {
   "cell_type": "code",
   "execution_count": 4,
   "id": "adb31c5d",
   "metadata": {},
   "outputs": [],
   "source": [
    "def q_learning(env, episodes=20000, alpha=0.1, gamma=0.99, epsilon=1.0, epsilon_min=0.1, decay=0.9995):\n",
    "    Q = np.zeros((n_states, n_actions))\n",
    "    for ep in range(episodes):\n",
    "        s, _ = env.reset()\n",
    "        done = False\n",
    "\n",
    "        while not done:\n",
    "            # Epsilon-greedy\n",
    "            if np.random.rand() < epsilon:\n",
    "                a = np.random.randint(n_actions)\n",
    "            else:\n",
    "                a = np.argmax(Q[s])\n",
    "\n",
    "            next_s, reward, terminated, truncated, _ = env.step(a)\n",
    "            done = terminated or truncated\n",
    "\n",
    "            best_next = np.max(Q[next_s])\n",
    "            Q[s, a] += alpha * (reward + gamma * best_next - Q[s, a])\n",
    "            s = next_s\n",
    "\n",
    "        # Giảm epsilon dần\n",
    "        epsilon = max(epsilon_min, epsilon * decay)\n",
    "\n",
    "        # In log\n",
    "        if ep % 5000 == 0:\n",
    "            print(f\"Episode {ep}, epsilon = {epsilon:.3f}\")\n",
    "\n",
    "    return Q, np.argmax(Q, axis=1)\n",
    "\n",
    "\n",
    "def evaluate_policy(env, policy, episodes=100):\n",
    "    total_rewards = []\n",
    "    for _ in range(episodes):\n",
    "        s, _ = env.reset()\n",
    "        done = False\n",
    "        ep_reward = 0\n",
    "        while not done:\n",
    "            a = policy[s]\n",
    "            s, r, terminated, truncated, _ = env.step(a)\n",
    "            done = terminated or truncated\n",
    "            ep_reward += r\n",
    "        total_rewards.append(ep_reward)\n",
    "    return np.mean(total_rewards)\n"
   ]
  },
  {
   "cell_type": "code",
   "execution_count": 5,
   "id": "f7c889a1",
   "metadata": {},
   "outputs": [
    {
     "name": "stdout",
     "output_type": "stream",
     "text": [
      "Episode 0, epsilon = 1.000\n",
      "Episode 5000, epsilon = 0.100\n",
      "Episode 10000, epsilon = 0.100\n",
      "Episode 15000, epsilon = 0.100\n"
     ]
    }
   ],
   "source": [
    "# Chạy từng thuật toán\n",
    "V_vi, pi_vi, iter_vi = value_iteration(env)\n",
    "V_lp = solve_lp(env)\n",
    "Q_qlearn, pi_qlearn = q_learning(env)\n"
   ]
  },
  {
   "cell_type": "code",
   "execution_count": 6,
   "id": "8d38b638",
   "metadata": {},
   "outputs": [
    {
     "name": "stdout",
     "output_type": "stream",
     "text": [
      "Value Iteration: [0.951 0.961 0.97  0.961 0.961 0.    0.98  0.    0.97  0.98  0.99  0.\n",
      " 0.    0.99  1.    0.   ]\n",
      "Policy: [1 2 1 0 1 0 1 0 2 1 1 0 0 2 2 0]\n"
     ]
    }
   ],
   "source": [
    "# In kết quả\n",
    "print(\"Value Iteration:\", V_vi.round(3))\n",
    "print(\"Policy:\", pi_vi)"
   ]
  },
  {
   "cell_type": "code",
   "execution_count": 7,
   "id": "aad07cbc",
   "metadata": {},
   "outputs": [
    {
     "name": "stdout",
     "output_type": "stream",
     "text": [
      "LP Solution:     [ 0.951  0.961  0.97   0.961  0.961  0.     0.98   0.     0.97   0.98\n",
      "  0.99   0.     0.     0.99   1.    -0.   ]\n",
      "Q-Learning:      [0.951 0.961 0.97  0.959 0.961 0.    0.98  0.    0.97  0.98  0.99  0.\n",
      " 0.    0.99  1.    0.   ]\n"
     ]
    }
   ],
   "source": [
    "print(\"LP Solution:    \", V_lp.round(3))\n",
    "print(\"Q-Learning:     \", np.max(Q_qlearn, axis=1).round(3))"
   ]
  },
  {
   "cell_type": "code",
   "execution_count": 8,
   "id": "49f4e0c1",
   "metadata": {},
   "outputs": [
    {
     "name": "stdout",
     "output_type": "stream",
     "text": [
      "Episode 0, epsilon = 1.000\n",
      "Episode 5000, epsilon = 0.100\n",
      "Episode 10000, epsilon = 0.100\n",
      "Episode 15000, epsilon = 0.100\n",
      "Giá trị Q tối đa: [0.951 0.961 0.97  0.92  0.961 0.    0.98  0.    0.97  0.98  0.99  0.\n",
      " 0.    0.99  1.    0.   ]\n",
      "Chính sách học được: [1 2 1 0 1 0 1 0 2 1 1 0 0 2 2 0]\n",
      "Reward trung bình đạt được (trên 100 episode): 1.00\n"
     ]
    }
   ],
   "source": [
    "Q, pi = q_learning(env)\n",
    "print(\"Giá trị Q tối đa:\", np.max(Q, axis=1).round(3))\n",
    "print(\"Chính sách học được:\", pi)\n",
    "\n",
    "score = evaluate_policy(env, pi)\n",
    "print(f\"Reward trung bình đạt được (trên 100 episode): {score:.2f}\")\n"
   ]
  },
  {
   "cell_type": "code",
   "execution_count": 9,
   "id": "6ee246be",
   "metadata": {},
   "outputs": [
    {
     "name": "stderr",
     "output_type": "stream",
     "text": [
      "C:\\Users\\ACER\\AppData\\Local\\Packages\\PythonSoftwareFoundation.Python.3.11_qbz5n2kfra8p0\\LocalCache\\local-packages\\Python311\\site-packages\\gym\\utils\\passive_env_checker.py:233: DeprecationWarning: `np.bool8` is a deprecated alias for `np.bool_`.  (Deprecated NumPy 1.24)\n",
      "  if not isinstance(terminated, (bool, np.bool8)):\n"
     ]
    },
    {
     "data": {
      "image/png": "[encoded data removed]",
      "text/plain": [
       "<Figure size 640x480 with 1 Axes>"
      ]
     },
     "metadata": {},
     "output_type": "display_data"
    }
   ],
   "source": [
    "import gym\n",
    "import numpy as np\n",
    "import matplotlib.pyplot as plt\n",
    "\n",
    "env = gym.make(\"FrozenLake-v1\", is_slippery=False)\n",
    "n_states = env.observation_space.n\n",
    "n_actions = env.action_space.n\n",
    "\n",
    "def q_learning(env, episodes=20000, alpha=0.1, gamma=0.99, epsilon=1.0, epsilon_min=0.1, decay=0.9995):\n",
    "    Q = np.zeros((n_states, n_actions))\n",
    "    rewards = []\n",
    "    for ep in range(episodes):\n",
    "        s = env.reset()\n",
    "        if isinstance(s, tuple): s = s[0]  # fix nếu là gymnasium\n",
    "        done = False\n",
    "        total_r = 0\n",
    "        while not done:\n",
    "            a = np.random.randint(n_actions) if np.random.rand() < epsilon else np.argmax(Q[s])\n",
    "            next_s, r, terminated, truncated, _ = env.step(a)\n",
    "            done = terminated or truncated\n",
    "            total_r += r\n",
    "            Q[s, a] += alpha * (r + gamma * np.max(Q[next_s]) - Q[s, a])\n",
    "            s = next_s\n",
    "        epsilon = max(epsilon_min, epsilon * decay)\n",
    "        rewards.append(total_r)\n",
    "    return Q, np.argmax(Q, axis=1), rewards\n",
    "\n",
    "\n",
    "# Train và vẽ\n",
    "Q, policy_q, rewards_q = q_learning(env)\n",
    "plt.plot(np.convolve(rewards_q, np.ones(100)/100, mode='valid'))\n",
    "plt.title(\"Q-Learning: Reward trung bình theo episode\")\n",
    "plt.xlabel(\"Episode\")\n",
    "plt.ylabel(\"Reward trung bình (window=100)\")\n",
    "plt.grid(True)\n",
    "plt.show()\n"
   ]
  },
  {
   "cell_type": "code",
   "execution_count": 10,
   "id": "560118bd",
   "metadata": {},
   "outputs": [
    {
     "name": "stdout",
     "output_type": "stream",
     "text": [
      "        Thuật toán  Thời gian (giây) Số vòng lặp / Episode  Reward trung bình\n",
      "0  Value Iteration          0.000000                     7                1.0\n",
      "1      LP (Primal)          0.039739                     -                1.0\n",
      "2       Q-Learning          1.380241                 20000                1.0\n"
     ]
    }
   ],
   "source": [
    "import time\n",
    "import cvxpy as cp\n",
    "import pandas as pd\n",
    "\n",
    "# Value Iteration\n",
    "def value_iteration(env, gamma=0.99, theta=1e-8):\n",
    "    V = np.zeros(n_states)\n",
    "    pi = np.zeros(n_states, dtype=int)\n",
    "    iters = 0\n",
    "    while True:\n",
    "        delta = 0\n",
    "        for s in range(n_states):\n",
    "            A = np.zeros(n_actions)\n",
    "            for a in range(n_actions):\n",
    "                for p, ns, r, _ in env.P[s][a]:\n",
    "                    A[a] += p * (r + gamma * V[ns])\n",
    "            delta = max(delta, abs(V[s] - np.max(A)))\n",
    "            V[s] = np.max(A)\n",
    "            pi[s] = np.argmax(A)\n",
    "        iters += 1\n",
    "        if delta < theta: break\n",
    "    return V, pi, iters\n",
    "\n",
    "# LP (Primal)\n",
    "def solve_lp(env, gamma=0.99):\n",
    "    V = cp.Variable(n_states)\n",
    "    constraints = []\n",
    "    for s in range(n_states):\n",
    "        for a in range(n_actions):\n",
    "            expr = sum(p * (r + gamma * V[ns]) for p, ns, r, _ in env.P[s][a])\n",
    "            constraints.append(V[s] >= expr)\n",
    "    prob = cp.Problem(cp.Minimize(cp.sum(V)), constraints)\n",
    "    prob.solve()\n",
    "    return V.value\n",
    "\n",
    "# Evaluate policy\n",
    "def evaluate_policy(env, pi, episodes=100):\n",
    "    total = 0\n",
    "    for _ in range(episodes):\n",
    "        s = env.reset()\n",
    "        if isinstance(s, tuple): s = s[0]  # xử lý với Gym >= 0.26\n",
    "        done = False\n",
    "        while not done:\n",
    "            s_, r, terminated, truncated, _ = env.step(pi[s])\n",
    "            done = terminated or truncated\n",
    "            total += r\n",
    "            s = s_\n",
    "    return total / episodes\n",
    "\n",
    "\n",
    "# Chạy tất cả\n",
    "start = time.time()\n",
    "V_vi, pi_vi, it_vi = value_iteration(env)\n",
    "t_vi = time.time() - start\n",
    "\n",
    "start = time.time()\n",
    "V_lp = solve_lp(env)\n",
    "t_lp = time.time() - start\n",
    "\n",
    "start = time.time()\n",
    "Q, pi_q, rewards_q = q_learning(env)\n",
    "t_ql = time.time() - start\n",
    "\n",
    "# Đánh giá\n",
    "r_vi = evaluate_policy(env, pi_vi)\n",
    "r_q = evaluate_policy(env, pi_q)\n",
    "\n",
    "# Bảng\n",
    "df = pd.DataFrame({\n",
    "    \"Thuật toán\": [\"Value Iteration\", \"LP (Primal)\", \"Q-Learning\"],\n",
    "    \"Thời gian (giây)\": [t_vi, t_lp, t_ql],\n",
    "    \"Số vòng lặp / Episode\": [it_vi, \"-\", \"20000\"],\n",
    "    \"Reward trung bình\": [r_vi, r_vi, r_q]\n",
    "})\n",
    "print(df)\n"
   ]
  },
  {
   "cell_type": "code",
   "execution_count": 11,
   "id": "6cbf3d44",
   "metadata": {},
   "outputs": [
    {
     "name": "stdout",
     "output_type": "stream",
     "text": [
      "Giá trị chính xác V*: [26.244 29.16  32.4   36.    40.   ]\n",
      "Giá trị ALP: [27.692 30.769 33.846 36.923 40.   ]\n",
      "Giá trị NP-ALP: [26.244 29.16  32.4   36.    40.   ]\n"
     ]
    }
   ],
   "source": [
    "import numpy as np\n",
    "from scipy.optimize import linprog\n",
    "\n",
    "# Định nghĩa MDP minh họa\n",
    "S = list(range(5))   # các trạng thái 0,1,2,3,4\n",
    "A = [0,1]            # hai hành động\n",
    "gamma = 0.9\n",
    "# Định nghĩa R và P\n",
    "R = {}\n",
    "P = {}\n",
    "for s in S:\n",
    "    R[(s,0)] = s              # hành động 0: ở nguyên, phần thưởng = s\n",
    "    P[(s,0)] = {s: 1.0}       # xác suất 1 ở lại s\n",
    "    R[(s,1)] = 0              # hành động 1: chuyển sang (s+1)%5, phần thưởng 0\n",
    "    P[(s,1)] = {(s+1)%5: 1.0}\n",
    "\n",
    "# Giải LP chính xác (biến V[0..4])\n",
    "n = len(S)\n",
    "c = np.ones(n)  # mục tiêu minimize sum V(s)\n",
    "A_ub = []\n",
    "b_ub = []\n",
    "for s in S:\n",
    "    for a in A:\n",
    "        row = np.zeros(n)\n",
    "        row[s] -= 1\n",
    "        for s2, p in P[(s,a)].items():\n",
    "            row[s2] += gamma * p\n",
    "        b = -R[(s,a)]\n",
    "        A_ub.append(row)\n",
    "        b_ub.append(b)\n",
    "res_exact = linprog(c, A_ub=A_ub, b_ub=b_ub, bounds=[(None,None)]*n, method='highs')\n",
    "V_exact = res_exact.x\n",
    "print(\"Giá trị chính xác V*:\", np.round(V_exact, 3))\n",
    "\n",
    "# Giải ALP với 2 tính năng: phi0=1, phi1=s\n",
    "c_alp = np.array([5.0, 10.0])  # objective: sum V(s) = 5*w0 + 10*w1\n",
    "A_ub_alp = []\n",
    "b_ub_alp = []\n",
    "for s in S:\n",
    "    for a in A:\n",
    "        if a == 0:\n",
    "            s2 = s\n",
    "            r = R[(s,a)]\n",
    "        else:\n",
    "            s2 = (s+1)%5\n",
    "            r = R[(s,a)]\n",
    "        # Constraint: (1-gamma)*w0 + (s - gamma*s2)*w1 >= r\n",
    "        row = np.zeros(2)\n",
    "        row[0] = -(1-gamma)\n",
    "        row[1] = -(s - gamma*s2)\n",
    "        A_ub_alp.append(row)\n",
    "        b_ub_alp.append(-r)\n",
    "res_alp = linprog(c_alp, A_ub=np.array(A_ub_alp), b_ub=np.array(b_ub_alp), bounds=[(None,None),(None,None)], method='highs')\n",
    "w0, w1 = res_alp.x\n",
    "V_alp = [w0 + w1*s for s in S]\n",
    "print(\"Giá trị ALP:\", np.round(V_alp,3))\n",
    "\n",
    "# Giải NP-ALP với L = 10\n",
    "L = 10.0\n",
    "A_ub_np = []\n",
    "b_ub_np = []\n",
    "for s in S:\n",
    "    for a in A:\n",
    "        row = np.zeros(n)\n",
    "        row[s] -= 1\n",
    "        for s2,p in P[(s,a)].items():\n",
    "            row[s2] += gamma*p\n",
    "        b = -R[(s,a)]\n",
    "        A_ub_np.append(row)\n",
    "        b_ub_np.append(b)\n",
    "for i in S:\n",
    "    for j in S:\n",
    "        if i == j: continue\n",
    "        # Constraint: V(i) - V(j) <= L*|i-j|\n",
    "        row = np.zeros(n)\n",
    "        row[i] = 1\n",
    "        row[j] = -1\n",
    "        A_ub_np.append(row)\n",
    "        b_ub_np.append(L * abs(i-j))\n",
    "res_npalp = linprog(c, A_ub=np.array(A_ub_np), b_ub=np.array(b_ub_np), bounds=[(None,None)]*n, method='highs')\n",
    "V_npalp = res_npalp.x\n",
    "print(\"Giá trị NP-ALP:\", np.round(V_npalp,3))\n"
   ]
  }
 ],
 "metadata": {
  "kernelspec": {
   "display_name": "Python 3",
   "language": "python",
   "name": "python3"
  },
  "language_info": {
   "codemirror_mode": {
    "name": "ipython",
    "version": 3
   },
   "file_extension": ".py",
   "mimetype": "text/x-python",
   "name": "python",
   "nbconvert_exporter": "python",
   "pygments_lexer": "ipython3",
   "version": "3.11.9"
  }
 },
 "nbformat": 4,
 "nbformat_minor": 5
}
